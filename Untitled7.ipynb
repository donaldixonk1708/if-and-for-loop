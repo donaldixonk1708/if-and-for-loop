{
  "nbformat": 4,
  "nbformat_minor": 0,
  "metadata": {
    "colab": {
      "provenance": [],
      "authorship_tag": "ABX9TyM4kY1KFwo5WeCdPc062dDp",
      "include_colab_link": true
    },
    "kernelspec": {
      "name": "python3",
      "display_name": "Python 3"
    },
    "language_info": {
      "name": "python"
    }
  },
  "cells": [
    {
      "cell_type": "markdown",
      "metadata": {
        "id": "view-in-github",
        "colab_type": "text"
      },
      "source": [
        "<a href=\"https://colab.research.google.com/github/donaldixonk1708/if-and-for-loop/blob/main/Untitled7.ipynb\" target=\"_parent\"><img src=\"https://colab.research.google.com/assets/colab-badge.svg\" alt=\"Open In Colab\"/></a>"
      ]
    },
    {
      "cell_type": "code",
      "execution_count": 2,
      "metadata": {
        "colab": {
          "base_uri": "https://localhost:8080/"
        },
        "id": "latnKoZFruwv",
        "outputId": "16a14ca4-06d6-4c08-b138-5210bd9d3923"
      },
      "outputs": [
        {
          "output_type": "stream",
          "name": "stdout",
          "text": [
            "enter the number5\n",
            "1 * 5 = 5\n",
            "2 * 5 = 10\n",
            "3 * 5 = 15\n",
            "4 * 5 = 20\n",
            "5 * 5 = 25\n",
            "6 * 5 = 30\n",
            "7 * 5 = 35\n",
            "8 * 5 = 40\n",
            "9 * 5 = 45\n",
            "10 * 5 = 50\n"
          ]
        }
      ],
      "source": [
        "num=int(input(\"enter the number\"))\n",
        "for i in range(1,11,1):\n",
        "  print(i,\"*\",num,\"=\",i*num)"
      ]
    },
    {
      "cell_type": "code",
      "source": [
        "num=int(input())\n",
        "i=1\n",
        "while(i<=10):\n",
        "  print(i*num)\n",
        "  i=i+1"
      ],
      "metadata": {
        "colab": {
          "base_uri": "https://localhost:8080/"
        },
        "id": "GMJdOr-OvD4K",
        "outputId": "37c7a753-af06-4f9e-d36a-5cc6f73f3ea1"
      },
      "execution_count": 3,
      "outputs": [
        {
          "output_type": "stream",
          "name": "stdout",
          "text": [
            "5\n",
            "5\n",
            "10\n",
            "15\n",
            "20\n",
            "25\n",
            "30\n",
            "35\n",
            "40\n",
            "45\n",
            "50\n"
          ]
        }
      ]
    },
    {
      "cell_type": "code",
      "source": [
        "num=input(\"enter the number\")\n",
        "d=0\n",
        "for i in num:\n",
        "  print(i)\n",
        "  d=d+1\n",
        "  print(d)"
      ],
      "metadata": {
        "colab": {
          "base_uri": "https://localhost:8080/"
        },
        "id": "OPqMaCiMyjxH",
        "outputId": "daed2727-44ee-4638-9f36-71dde554ceda"
      },
      "execution_count": 5,
      "outputs": [
        {
          "output_type": "stream",
          "name": "stdout",
          "text": [
            "enter the number500\n",
            "5\n",
            "1\n",
            "0\n",
            "2\n",
            "0\n",
            "3\n"
          ]
        }
      ]
    },
    {
      "cell_type": "code",
      "source": [
        "\n",
        "x=input(\"enter a string\")\n",
        "w= \"\"\n",
        "for i in x:  \n",
        "  w=i+w\n",
        "print(w)\n",
        "if x==w: \n",
        "  print('true')\n",
        "else:\n",
        "  print('false')"
      ],
      "metadata": {
        "colab": {
          "base_uri": "https://localhost:8080/"
        },
        "id": "MRRauSCz4b_5",
        "outputId": "485316a6-acc8-40d5-c685-60c65b03944e"
      },
      "execution_count": 8,
      "outputs": [
        {
          "output_type": "stream",
          "name": "stdout",
          "text": [
            "enter a stringchritson\n",
            "nostirhc\n",
            "false\n"
          ]
        }
      ]
    },
    {
      "cell_type": "code",
      "source": [
        "a=int(input(\"enter marks\"))\n",
        "b=int(input(\"enter marks\"))\n",
        "c=int(input(\"enter marks\"))\n",
        "v=[a,b,c]\n",
        "print(min(v))\n",
        "print(max(v))"
      ],
      "metadata": {
        "colab": {
          "base_uri": "https://localhost:8080/"
        },
        "id": "26qEy08U71Pi",
        "outputId": "0a951a76-aeed-4c17-a208-6a0b42e2a29c"
      },
      "execution_count": 9,
      "outputs": [
        {
          "output_type": "stream",
          "name": "stdout",
          "text": [
            "enter marks10\n",
            "enter marks40\n",
            "enter marks90\n",
            "10\n",
            "90\n"
          ]
        }
      ]
    },
    {
      "cell_type": "code",
      "source": [
        "m1=int(input('enter marks'))\n",
        "m2=int(input('enter marks'))\n",
        "m3=int(input('enter marks'))\n",
        "m=[m1+m2+m3]\n",
        "print(m)\n",
        "v=[m1,m2,m3]\n",
        "print(min(v))\n",
        "print(max(v))\n",
        "print()"
      ],
      "metadata": {
        "colab": {
          "base_uri": "https://localhost:8080/"
        },
        "id": "YIkxmMIQAcZq",
        "outputId": "cfecf0df-b781-49c7-8dbb-b36a5877abb7"
      },
      "execution_count": 10,
      "outputs": [
        {
          "output_type": "stream",
          "name": "stdout",
          "text": [
            "enter marks30\n",
            "enter marks50\n",
            "enter marks80\n",
            "[160]\n",
            "30\n",
            "80\n",
            "\n"
          ]
        }
      ]
    },
    {
      "cell_type": "code",
      "source": [],
      "metadata": {
        "id": "D_HxLTQICnXT"
      },
      "execution_count": null,
      "outputs": []
    }
  ]
}