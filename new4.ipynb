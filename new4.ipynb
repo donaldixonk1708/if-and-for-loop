{
  "nbformat": 4,
  "nbformat_minor": 0,
  "metadata": {
    "colab": {
      "provenance": [],
      "collapsed_sections": [],
      "authorship_tag": "ABX9TyO1yrllLbNY4y7yY2/WnScW",
      "include_colab_link": true
    },
    "kernelspec": {
      "name": "python3",
      "display_name": "Python 3"
    },
    "language_info": {
      "name": "python"
    }
  },
  "cells": [
    {
      "cell_type": "markdown",
      "metadata": {
        "id": "view-in-github",
        "colab_type": "text"
      },
      "source": [
        "<a href=\"https://colab.research.google.com/github/donaldixonk1708/if-and-for-loop/blob/main/new4.ipynb\" target=\"_parent\"><img src=\"https://colab.research.google.com/assets/colab-badge.svg\" alt=\"Open In Colab\"/></a>"
      ]
    },
    {
      "cell_type": "code",
      "execution_count": null,
      "metadata": {
        "colab": {
          "base_uri": "https://localhost:8080/"
        },
        "id": "0-HE538agsII",
        "outputId": "c2d6284a-b1a7-4f55-9fd3-89fcfe7eca00"
      },
      "outputs": [
        {
          "output_type": "stream",
          "name": "stdout",
          "text": [
            "Enter the namedonal\n",
            "donal\n"
          ]
        }
      ],
      "source": [
        "name=input(\"Enter the name\")\n",
        "print(name)"
      ]
    },
    {
      "cell_type": "code",
      "source": [
        "m1=int(input(\"enter the mark of first subject\"))\n",
        "m2=int(input(\"enter the mark of second subject\"))\n",
        "total=m1+m2\n",
        "print(total)"
      ],
      "metadata": {
        "colab": {
          "base_uri": "https://localhost:8080/"
        },
        "id": "QABm3q-7iUn6",
        "outputId": "2551eb41-7b01-4c40-f920-f8bb85473200"
      },
      "execution_count": null,
      "outputs": [
        {
          "output_type": "stream",
          "name": "stdout",
          "text": [
            "enter the mark of first subject45\n",
            "enter the mark of second subject5\n",
            "50\n"
          ]
        }
      ]
    },
    {
      "cell_type": "code",
      "source": [
        "a=int(input(\"enter the mark of first subject\"))\n",
        "b=int(input(\"enter the mark of first subject\"))\n",
        "if a>b:\n",
        "  print(\"a is larger\")\n",
        "else:\n",
        "  print(\"b is larger\")  "
      ],
      "metadata": {
        "id": "9YS9Zmi1knkf",
        "colab": {
          "base_uri": "https://localhost:8080/"
        },
        "outputId": "8942b64b-ef75-4ebf-b81c-0e0f19140e79"
      },
      "execution_count": null,
      "outputs": [
        {
          "output_type": "stream",
          "name": "stdout",
          "text": [
            "enter the mark of first subject50\n",
            "enter the mark of first subject60\n",
            "b is larger\n"
          ]
        }
      ]
    },
    {
      "cell_type": "code",
      "source": [
        "a=int(input(\"enter the mark of first subject\"))\n",
        "b=int(input(\"enter the mark of second subject\"))\n",
        "c=int(input(\"enter the mark of third subject\"))\n",
        "if a>b and a>c:\n",
        "  print(\"a, is larger\")\n",
        "elif b>a and b>c:\n",
        "  print(\"b, is larger\") \n",
        "else:\n",
        "  print(\"c, is larger\") "
      ],
      "metadata": {
        "colab": {
          "base_uri": "https://localhost:8080/"
        },
        "id": "g85jCc7fnhgl",
        "outputId": "260d0b45-56b3-4b6b-efdd-811ce58b16fa"
      },
      "execution_count": null,
      "outputs": [
        {
          "output_type": "stream",
          "name": "stdout",
          "text": [
            "enter the mark of first subject10\n",
            "enter the mark of second subject30\n",
            "enter the mark of third subject40\n",
            "c, is larger\n"
          ]
        }
      ]
    },
    {
      "cell_type": "code",
      "source": [
        "num1 =int(input(\"enter the number\"))\n",
        "if num1%2 == 0:\n",
        "  print(\"its even\")\n",
        "else:\n",
        "  print(\"odd\")\n"
      ],
      "metadata": {
        "colab": {
          "base_uri": "https://localhost:8080/"
        },
        "id": "QHfDLFShsY-b",
        "outputId": "104bda5a-4c78-47bd-809d-a21f4cfff0f4"
      },
      "execution_count": null,
      "outputs": [
        {
          "output_type": "stream",
          "name": "stdout",
          "text": [
            "enter the number4\n",
            "its even\n"
          ]
        }
      ]
    },
    {
      "cell_type": "code",
      "source": [
        "for i in range(1,11):\n",
        "  print(i)"
      ],
      "metadata": {
        "colab": {
          "base_uri": "https://localhost:8080/"
        },
        "id": "aLEA1cHOyBU1",
        "outputId": "da9e8572-d632-4cd6-d6bd-f9bf269e8a62"
      },
      "execution_count": null,
      "outputs": [
        {
          "output_type": "stream",
          "name": "stdout",
          "text": [
            "1\n",
            "2\n",
            "3\n",
            "4\n",
            "5\n",
            "6\n",
            "7\n",
            "8\n",
            "9\n",
            "10\n"
          ]
        }
      ]
    },
    {
      "cell_type": "code",
      "source": [
        "for i in range(0,12,2):\n",
        "  print(i)"
      ],
      "metadata": {
        "colab": {
          "base_uri": "https://localhost:8080/"
        },
        "id": "ehSjh7gd0FYX",
        "outputId": "11ca3464-44b6-4268-cf56-670bfa9c9b5b"
      },
      "execution_count": null,
      "outputs": [
        {
          "output_type": "stream",
          "name": "stdout",
          "text": [
            "0\n",
            "2\n",
            "4\n",
            "6\n",
            "8\n",
            "10\n"
          ]
        }
      ]
    },
    {
      "cell_type": "code",
      "source": [],
      "metadata": {
        "id": "cUDVWOEd1Bk9"
      },
      "execution_count": null,
      "outputs": []
    }
  ]
}